{
 "cells": [
  {
   "cell_type": "code",
   "execution_count": 1,
   "metadata": {},
   "outputs": [
    {
     "name": "stderr",
     "output_type": "stream",
     "text": [
      "C:\\Users\\abdulmalik.aiyeleso\\AppData\\Local\\Continuum\\anaconda\\lib\\site-packages\\ipykernel\\parentpoller.py:116: UserWarning: Parent poll failed.  If the frontend dies,\n",
      "                the kernel may be left running.  Please let us know\n",
      "                about your system (bitness, Python, etc.) at\n",
      "                ipython-dev@scipy.org\n",
      "  ipython-dev@scipy.org\"\"\")\n",
      "C:\\Users\\abdulmalik.aiyeleso\\AppData\\Local\\Continuum\\anaconda\\lib\\site-packages\\ipykernel_launcher.py:11: DeprecationWarning: numpy.core.umath_tests is an internal NumPy module and should not be imported. It will be removed in a future NumPy release.\n",
      "  # This is added back by InteractiveShellApp.init_path()\n"
     ]
    }
   ],
   "source": [
    "#intial imports\n",
    "import pandas as pd\n",
    "from matplotlib import pyplot as plt\n",
    "import numpy as np\n",
    "from sklearn.model_selection import train_test_split\n",
    "from sklearn.linear_model import LinearRegression, LogisticRegression\n",
    "from sklearn.svm import SVC\n",
    "from sklearn.neighbors import KNeighborsClassifier\n",
    "from sklearn.metrics import accuracy_score, recall_score, precision_score, f1_score\n",
    "from sklearn.preprocessing import MinMaxScaler\n",
    "from numpy.core.umath_tests import inner1d\n",
    "from imblearn.over_sampling import SMOTE\n",
    "from imblearn.under_sampling import NearMiss\n",
    "\n",
    "#read file\n",
    "df = pd.read_csv(\"profiles.csv\")"
   ]
  },
  {
   "cell_type": "code",
   "execution_count": 2,
   "metadata": {},
   "outputs": [
    {
     "name": "stdout",
     "output_type": "stream",
     "text": [
      "Index(['age', 'body_type', 'diet', 'drinks', 'drugs', 'education', 'essay0',\n",
      "       'essay1', 'essay2', 'essay3', 'essay4', 'essay5', 'essay6', 'essay7',\n",
      "       'essay8', 'essay9', 'ethnicity', 'height', 'income', 'job',\n",
      "       'last_online', 'location', 'offspring', 'orientation', 'pets',\n",
      "       'religion', 'sex', 'sign', 'smokes', 'speaks', 'status'],\n",
      "      dtype='object')\n"
     ]
    }
   ],
   "source": [
    "#print columns\n",
    "print(df.columns)"
   ]
  },
  {
   "cell_type": "code",
   "execution_count": 3,
   "metadata": {},
   "outputs": [
    {
     "data": {
      "text/html": [
       "<div>\n",
       "<style scoped>\n",
       "    .dataframe tbody tr th:only-of-type {\n",
       "        vertical-align: middle;\n",
       "    }\n",
       "\n",
       "    .dataframe tbody tr th {\n",
       "        vertical-align: top;\n",
       "    }\n",
       "\n",
       "    .dataframe thead th {\n",
       "        text-align: right;\n",
       "    }\n",
       "</style>\n",
       "<table border=\"1\" class=\"dataframe\">\n",
       "  <thead>\n",
       "    <tr style=\"text-align: right;\">\n",
       "      <th></th>\n",
       "      <th>age</th>\n",
       "      <th>body_type</th>\n",
       "      <th>diet</th>\n",
       "      <th>drinks</th>\n",
       "      <th>drugs</th>\n",
       "      <th>education</th>\n",
       "      <th>essay0</th>\n",
       "      <th>essay1</th>\n",
       "      <th>essay2</th>\n",
       "      <th>essay3</th>\n",
       "      <th>...</th>\n",
       "      <th>location</th>\n",
       "      <th>offspring</th>\n",
       "      <th>orientation</th>\n",
       "      <th>pets</th>\n",
       "      <th>religion</th>\n",
       "      <th>sex</th>\n",
       "      <th>sign</th>\n",
       "      <th>smokes</th>\n",
       "      <th>speaks</th>\n",
       "      <th>status</th>\n",
       "    </tr>\n",
       "  </thead>\n",
       "  <tbody>\n",
       "    <tr>\n",
       "      <th>0</th>\n",
       "      <td>22</td>\n",
       "      <td>a little extra</td>\n",
       "      <td>strictly anything</td>\n",
       "      <td>socially</td>\n",
       "      <td>never</td>\n",
       "      <td>working on college/university</td>\n",
       "      <td>about me:&lt;br /&gt;\\n&lt;br /&gt;\\ni would love to think...</td>\n",
       "      <td>currently working as an international agent fo...</td>\n",
       "      <td>making people laugh.&lt;br /&gt;\\nranting about a go...</td>\n",
       "      <td>the way i look. i am a six foot half asian, ha...</td>\n",
       "      <td>...</td>\n",
       "      <td>south san francisco, california</td>\n",
       "      <td>doesn&amp;rsquo;t have kids, but might want them</td>\n",
       "      <td>straight</td>\n",
       "      <td>likes dogs and likes cats</td>\n",
       "      <td>agnosticism and very serious about it</td>\n",
       "      <td>m</td>\n",
       "      <td>gemini</td>\n",
       "      <td>sometimes</td>\n",
       "      <td>english</td>\n",
       "      <td>single</td>\n",
       "    </tr>\n",
       "    <tr>\n",
       "      <th>1</th>\n",
       "      <td>35</td>\n",
       "      <td>average</td>\n",
       "      <td>mostly other</td>\n",
       "      <td>often</td>\n",
       "      <td>sometimes</td>\n",
       "      <td>working on space camp</td>\n",
       "      <td>i am a chef: this is what that means.&lt;br /&gt;\\n1...</td>\n",
       "      <td>dedicating everyday to being an unbelievable b...</td>\n",
       "      <td>being silly. having ridiculous amonts of fun w...</td>\n",
       "      <td>NaN</td>\n",
       "      <td>...</td>\n",
       "      <td>oakland, california</td>\n",
       "      <td>doesn&amp;rsquo;t have kids, but might want them</td>\n",
       "      <td>straight</td>\n",
       "      <td>likes dogs and likes cats</td>\n",
       "      <td>agnosticism but not too serious about it</td>\n",
       "      <td>m</td>\n",
       "      <td>cancer</td>\n",
       "      <td>no</td>\n",
       "      <td>english (fluently), spanish (poorly), french (...</td>\n",
       "      <td>single</td>\n",
       "    </tr>\n",
       "    <tr>\n",
       "      <th>2</th>\n",
       "      <td>38</td>\n",
       "      <td>thin</td>\n",
       "      <td>anything</td>\n",
       "      <td>socially</td>\n",
       "      <td>NaN</td>\n",
       "      <td>graduated from masters program</td>\n",
       "      <td>i'm not ashamed of much, but writing public te...</td>\n",
       "      <td>i make nerdy software for musicians, artists, ...</td>\n",
       "      <td>improvising in different contexts. alternating...</td>\n",
       "      <td>my large jaw and large glasses are the physica...</td>\n",
       "      <td>...</td>\n",
       "      <td>san francisco, california</td>\n",
       "      <td>NaN</td>\n",
       "      <td>straight</td>\n",
       "      <td>has cats</td>\n",
       "      <td>NaN</td>\n",
       "      <td>m</td>\n",
       "      <td>pisces but it doesn&amp;rsquo;t matter</td>\n",
       "      <td>no</td>\n",
       "      <td>english, french, c++</td>\n",
       "      <td>available</td>\n",
       "    </tr>\n",
       "    <tr>\n",
       "      <th>3</th>\n",
       "      <td>23</td>\n",
       "      <td>thin</td>\n",
       "      <td>vegetarian</td>\n",
       "      <td>socially</td>\n",
       "      <td>NaN</td>\n",
       "      <td>working on college/university</td>\n",
       "      <td>i work in a library and go to school. . .</td>\n",
       "      <td>reading things written by old dead people</td>\n",
       "      <td>playing synthesizers and organizing books acco...</td>\n",
       "      <td>socially awkward but i do my best</td>\n",
       "      <td>...</td>\n",
       "      <td>berkeley, california</td>\n",
       "      <td>doesn&amp;rsquo;t want kids</td>\n",
       "      <td>straight</td>\n",
       "      <td>likes cats</td>\n",
       "      <td>NaN</td>\n",
       "      <td>m</td>\n",
       "      <td>pisces</td>\n",
       "      <td>no</td>\n",
       "      <td>english, german (poorly)</td>\n",
       "      <td>single</td>\n",
       "    </tr>\n",
       "    <tr>\n",
       "      <th>4</th>\n",
       "      <td>29</td>\n",
       "      <td>athletic</td>\n",
       "      <td>NaN</td>\n",
       "      <td>socially</td>\n",
       "      <td>never</td>\n",
       "      <td>graduated from college/university</td>\n",
       "      <td>hey how's it going? currently vague on the pro...</td>\n",
       "      <td>work work work work + play</td>\n",
       "      <td>creating imagery to look at:&lt;br /&gt;\\nhttp://bag...</td>\n",
       "      <td>i smile a lot and my inquisitive nature</td>\n",
       "      <td>...</td>\n",
       "      <td>san francisco, california</td>\n",
       "      <td>NaN</td>\n",
       "      <td>straight</td>\n",
       "      <td>likes dogs and likes cats</td>\n",
       "      <td>NaN</td>\n",
       "      <td>m</td>\n",
       "      <td>aquarius</td>\n",
       "      <td>no</td>\n",
       "      <td>english</td>\n",
       "      <td>single</td>\n",
       "    </tr>\n",
       "  </tbody>\n",
       "</table>\n",
       "<p>5 rows × 31 columns</p>\n",
       "</div>"
      ],
      "text/plain": [
       "   age       body_type               diet    drinks      drugs  \\\n",
       "0   22  a little extra  strictly anything  socially      never   \n",
       "1   35         average       mostly other     often  sometimes   \n",
       "2   38            thin           anything  socially        NaN   \n",
       "3   23            thin         vegetarian  socially        NaN   \n",
       "4   29        athletic                NaN  socially      never   \n",
       "\n",
       "                           education  \\\n",
       "0      working on college/university   \n",
       "1              working on space camp   \n",
       "2     graduated from masters program   \n",
       "3      working on college/university   \n",
       "4  graduated from college/university   \n",
       "\n",
       "                                              essay0  \\\n",
       "0  about me:<br />\\n<br />\\ni would love to think...   \n",
       "1  i am a chef: this is what that means.<br />\\n1...   \n",
       "2  i'm not ashamed of much, but writing public te...   \n",
       "3          i work in a library and go to school. . .   \n",
       "4  hey how's it going? currently vague on the pro...   \n",
       "\n",
       "                                              essay1  \\\n",
       "0  currently working as an international agent fo...   \n",
       "1  dedicating everyday to being an unbelievable b...   \n",
       "2  i make nerdy software for musicians, artists, ...   \n",
       "3          reading things written by old dead people   \n",
       "4                         work work work work + play   \n",
       "\n",
       "                                              essay2  \\\n",
       "0  making people laugh.<br />\\nranting about a go...   \n",
       "1  being silly. having ridiculous amonts of fun w...   \n",
       "2  improvising in different contexts. alternating...   \n",
       "3  playing synthesizers and organizing books acco...   \n",
       "4  creating imagery to look at:<br />\\nhttp://bag...   \n",
       "\n",
       "                                              essay3    ...      \\\n",
       "0  the way i look. i am a six foot half asian, ha...    ...       \n",
       "1                                                NaN    ...       \n",
       "2  my large jaw and large glasses are the physica...    ...       \n",
       "3                  socially awkward but i do my best    ...       \n",
       "4            i smile a lot and my inquisitive nature    ...       \n",
       "\n",
       "                          location  \\\n",
       "0  south san francisco, california   \n",
       "1              oakland, california   \n",
       "2        san francisco, california   \n",
       "3             berkeley, california   \n",
       "4        san francisco, california   \n",
       "\n",
       "                                      offspring orientation  \\\n",
       "0  doesn&rsquo;t have kids, but might want them    straight   \n",
       "1  doesn&rsquo;t have kids, but might want them    straight   \n",
       "2                                           NaN    straight   \n",
       "3                       doesn&rsquo;t want kids    straight   \n",
       "4                                           NaN    straight   \n",
       "\n",
       "                        pets                                  religion sex  \\\n",
       "0  likes dogs and likes cats     agnosticism and very serious about it   m   \n",
       "1  likes dogs and likes cats  agnosticism but not too serious about it   m   \n",
       "2                   has cats                                       NaN   m   \n",
       "3                 likes cats                                       NaN   m   \n",
       "4  likes dogs and likes cats                                       NaN   m   \n",
       "\n",
       "                                 sign     smokes  \\\n",
       "0                              gemini  sometimes   \n",
       "1                              cancer         no   \n",
       "2  pisces but it doesn&rsquo;t matter         no   \n",
       "3                              pisces         no   \n",
       "4                            aquarius         no   \n",
       "\n",
       "                                              speaks     status  \n",
       "0                                            english     single  \n",
       "1  english (fluently), spanish (poorly), french (...     single  \n",
       "2                               english, french, c++  available  \n",
       "3                           english, german (poorly)     single  \n",
       "4                                            english     single  \n",
       "\n",
       "[5 rows x 31 columns]"
      ]
     },
     "execution_count": 3,
     "metadata": {},
     "output_type": "execute_result"
    }
   ],
   "source": [
    "#see first five rows of data\n",
    "\n",
    "df.head()"
   ]
  },
  {
   "cell_type": "code",
   "execution_count": 4,
   "metadata": {},
   "outputs": [],
   "source": [
    "#column mapping\n",
    "diet_mapping = {'mostly anything':0,'anything':0,'strictly anything':0,'mostly vegetarian':1,'mostly other':1,\\\n",
    "                'strictly vegetarian':1,'vegetarian':1,'strictly other':1,'mostly vegan':1,'other':1,'strictly vegan':1,\\\n",
    "                'vegan':1,'mostly kosher':1,'mostly halal':1,'strictly kosher':1,'strictly halal':1,'kosher':1,'halal':1}\n",
    "\n",
    "drinks_mapping = {'not at all':0,'rarely':0.2,'socially':0.4,'often':0.6,'very often':0.8,'desperately':1}\n",
    "\n",
    "drugs_mapping = {'never':0,'sometimes':0.5,'often':1}\n",
    "\n",
    "education_mapping = {'graduated from law school':1, 'working on two-year college':0, 'dropped out of college/university':0,\\\n",
    "                     'working on ph.d program':1, 'college/university':1, 'graduated from space camp':1,\\\n",
    "                     'dropped out of space camp':0, 'graduated from med school':1, 'working on space camp':0,\\\n",
    "                     'working on law school':0, 'two-year college':1, 'working on med school':0,\\\n",
    "                     'dropped out of two-year college':0, 'dropped out of masters program':0, 'masters program':1,\\\n",
    "                     'dropped out of ph.d program':0, 'dropped out of high school':0, 'high school':0,\\\n",
    "                     'working on high school':0, 'space camp':1, 'ph.d program':1, 'law school':1,\\\n",
    "                     'dropped out of law school':0,'dropped out of med school':0,'med school':1}\n",
    "\n",
    "job_mapping = {'other':1,'student':0,'science / tech / engineering':1,'computer / hardware / software':1,\\\n",
    "               'artistic / musical / writer':1,'sales / marketing / biz dev  ':1,'medicine / health ':1,'education / academia':1,\\\n",
    "               'executive / management':1,'banking / financial / real estate':1,'entertainment / media':1,'law / legal services':1,\\\n",
    "               'hospitality / travel':1,'construction / craftsmanship':1,'clerical / administrative':1,'political / government':1,\\\n",
    "               'rather not say':0,'transportation':1,'unemployed':0,'retired':1,'military':1}\n",
    "\n",
    "offspring_mapping = {'doesn&rsquo;t have kids':0,'doesn&rsquo;t have kids, but might want them':0,\\\n",
    "                     'doesn&rsquo;t have kids, but wants them':0,'doesn&rsquo;t want kids':0,'has kids':1,'has a kid':1,\\\n",
    "                     'doesn&rsquo;t have kids, and doesn&rsquo;t want any':0,'has kids, but doesn&rsquo;t want more':1,\\\n",
    "                     'has a kid, but doesn&rsquo;t want more':1,'has a kid, and might want more':1,'wants kids':0,'might want kids':0\\\n",
    "                     ,'has kids, and might want more':1,'has a kid, and wants more':1,'has kids, and wants more':1}\n",
    "\n",
    "pets_mapping = {'likes dogs and likes cats':1,'likes dogs':1,'likes dogs and has cats':1,'has dogs':1,'has dogs and likes cats':1,\\\n",
    "                 'likes dogs and dislikes cats':1,'has dogs and has cats':1,'has cats':1,'likes cats':1,\\\n",
    "                 'has dogs and dislikes cats':1,'dislikes dogs and likes cats':1,'dislikes dogs and dislikes cats':0,\\\n",
    "                 'dislikes cats':0,'dislikes dogs and has cats':1,'dislikes dogs':0}\n",
    "\n",
    "smokes_mapping = {'no':0,'sometimes':0.50,'when drinking':0.50,'yes':1,'trying to quit':1}\n",
    "\n",
    "status_mapping = {'single':True, 'seeing someone':False, 'available':True, 'married':False, 'unknown':False}\n"
   ]
  },
  {
   "cell_type": "code",
   "execution_count": 5,
   "metadata": {},
   "outputs": [
    {
     "data": {
      "image/png": "[encoded data removed]",
      "text/plain": [
       "<Figure size 432x288 with 1 Axes>"
      ]
     },
     "metadata": {
      "needs_background": "light"
     },
     "output_type": "display_data"
    }
   ],
   "source": [
    "#Plot Age Histogram\n",
    "plt.hist(df.age, bins=30, color='purple')\n",
    "plt.xlabel(\"Age\")\n",
    "plt.ylabel(\"Frequency\")\n",
    "plt.xlim(15, 75)\n",
    "plt.savefig('Age Histogram.png')\n",
    "plt.show()"
   ]
  },
  {
   "cell_type": "code",
   "execution_count": 6,
   "metadata": {},
   "outputs": [
    {
     "data": {
      "image/png": "[encoded data removed]",
      "text/plain": [
       "<Figure size 432x288 with 2 Axes>"
      ]
     },
     "metadata": {
      "needs_background": "light"
     },
     "output_type": "display_data"
    }
   ],
   "source": [
    "#Plot Height Histogram\n",
    "mean_height = df['height'].mean(axis=0)\n",
    "df['height'].fillna(mean_height,inplace=True)\n",
    "plt.subplot(2,1,1)\n",
    "plt.hist(df.height, bins=30, color='purple')\n",
    "plt.xlabel(\"Height\")\n",
    "plt.ylabel(\"Frequency\")\n",
    "plt.xlim(0, 55)\n",
    "plt.ylim(0, 50)\n",
    "\n",
    "plt.subplot(2,1,2)\n",
    "plt.hist(df.height, bins=20, color='purple')\n",
    "plt.xlabel(\"Height\")\n",
    "plt.ylabel(\"Frequency\")\n",
    "plt.xlim(50, 90)\n",
    "plt.subplots_adjust(hspace=0.50, bottom=0.2)\n",
    "plt.savefig('Height Histogram.png')\n",
    "plt.show()"
   ]
  },
  {
   "cell_type": "code",
   "execution_count": 7,
   "metadata": {},
   "outputs": [
    {
     "data": {
      "image/png": "[encoded data removed]",
      "text/plain": [
       "<Figure size 432x288 with 1 Axes>"
      ]
     },
     "metadata": {
      "needs_background": "light"
     },
     "output_type": "display_data"
    }
   ],
   "source": [
    "#Income Histogram\n",
    "plt.hist(df.income, bins=100, color='purple')\n",
    "plt.xlabel(\"Income\")\n",
    "plt.ylabel(\"Frequency\")\n",
    "plt.xlim(-10, 200000)\n",
    "plt.savefig('Income Histogram.png')\n",
    "plt.show()"
   ]
  },
  {
   "cell_type": "code",
   "execution_count": 8,
   "metadata": {},
   "outputs": [
    {
     "data": {
      "text/html": [
       "<div>\n",
       "<style scoped>\n",
       "    .dataframe tbody tr th:only-of-type {\n",
       "        vertical-align: middle;\n",
       "    }\n",
       "\n",
       "    .dataframe tbody tr th {\n",
       "        vertical-align: top;\n",
       "    }\n",
       "\n",
       "    .dataframe thead th {\n",
       "        text-align: right;\n",
       "    }\n",
       "</style>\n",
       "<table border=\"1\" class=\"dataframe\">\n",
       "  <thead>\n",
       "    <tr style=\"text-align: right;\">\n",
       "      <th></th>\n",
       "      <th>counts</th>\n",
       "      <th>%</th>\n",
       "    </tr>\n",
       "  </thead>\n",
       "  <tbody>\n",
       "    <tr>\n",
       "      <th>1.0</th>\n",
       "      <td>7670</td>\n",
       "      <td>12.794849</td>\n",
       "    </tr>\n",
       "    <tr>\n",
       "      <th>0.0</th>\n",
       "      <td>52276</td>\n",
       "      <td>87.205151</td>\n",
       "    </tr>\n",
       "  </tbody>\n",
       "</table>\n",
       "</div>"
      ],
      "text/plain": [
       "     counts          %\n",
       "1.0    7670  12.794849\n",
       "0.0   52276  87.205151"
      ]
     },
     "execution_count": 8,
     "metadata": {},
     "output_type": "execute_result"
    }
   ],
   "source": [
    "#These codes allocates 1 where diet is restricted or specific and 0 where diet is open\n",
    "#All Nan are assumed to be open diet (0)\n",
    "df['diet_mapped'] = df['diet'].map(diet_mapping)\n",
    "df['diet_mapped'].fillna(0,inplace=True)\n",
    "c = df.diet_mapped.value_counts(dropna=False)\n",
    "p = df.diet_mapped.value_counts(dropna=False, normalize=True)\n",
    "cp = pd.concat([c,100*p], axis=1, keys=['counts', '%'])\n",
    "cp.sort_values(['%'])"
   ]
  },
  {
   "cell_type": "code",
   "execution_count": 9,
   "metadata": {},
   "outputs": [
    {
     "data": {
      "text/html": [
       "<div>\n",
       "<style scoped>\n",
       "    .dataframe tbody tr th:only-of-type {\n",
       "        vertical-align: middle;\n",
       "    }\n",
       "\n",
       "    .dataframe tbody tr th {\n",
       "        vertical-align: top;\n",
       "    }\n",
       "\n",
       "    .dataframe thead th {\n",
       "        text-align: right;\n",
       "    }\n",
       "</style>\n",
       "<table border=\"1\" class=\"dataframe\">\n",
       "  <thead>\n",
       "    <tr style=\"text-align: right;\">\n",
       "      <th></th>\n",
       "      <th>counts</th>\n",
       "      <th>%</th>\n",
       "    </tr>\n",
       "  </thead>\n",
       "  <tbody>\n",
       "    <tr>\n",
       "      <th>1.0</th>\n",
       "      <td>322</td>\n",
       "      <td>0.537150</td>\n",
       "    </tr>\n",
       "    <tr>\n",
       "      <th>0.8</th>\n",
       "      <td>471</td>\n",
       "      <td>0.785707</td>\n",
       "    </tr>\n",
       "    <tr>\n",
       "      <th>0.6</th>\n",
       "      <td>5164</td>\n",
       "      <td>8.614420</td>\n",
       "    </tr>\n",
       "    <tr>\n",
       "      <th>0.2</th>\n",
       "      <td>5957</td>\n",
       "      <td>9.937277</td>\n",
       "    </tr>\n",
       "    <tr>\n",
       "      <th>0.0</th>\n",
       "      <td>6252</td>\n",
       "      <td>10.429386</td>\n",
       "    </tr>\n",
       "    <tr>\n",
       "      <th>0.4</th>\n",
       "      <td>41780</td>\n",
       "      <td>69.696060</td>\n",
       "    </tr>\n",
       "  </tbody>\n",
       "</table>\n",
       "</div>"
      ],
      "text/plain": [
       "     counts          %\n",
       "1.0     322   0.537150\n",
       "0.8     471   0.785707\n",
       "0.6    5164   8.614420\n",
       "0.2    5957   9.937277\n",
       "0.0    6252  10.429386\n",
       "0.4   41780  69.696060"
      ]
     },
     "execution_count": 9,
     "metadata": {},
     "output_type": "execute_result"
    }
   ],
   "source": [
    "#These codes allocates 0 - 1 based on frequency of drinking\n",
    "#All Nan are assumed to be 0\n",
    "df['drinks_mapped'] = df['drinks'].map(drinks_mapping)\n",
    "df['drinks_mapped'].fillna(0,inplace=True)\n",
    "c = df.drinks_mapped.value_counts(dropna=False)\n",
    "p = df.drinks_mapped.value_counts(dropna=False, normalize=True)\n",
    "cp = pd.concat([c,100*p], axis=1, keys=['counts', '%'])\n",
    "cp.sort_values(['%'])"
   ]
  },
  {
   "cell_type": "code",
   "execution_count": 10,
   "metadata": {},
   "outputs": [
    {
     "data": {
      "text/html": [
       "<div>\n",
       "<style scoped>\n",
       "    .dataframe tbody tr th:only-of-type {\n",
       "        vertical-align: middle;\n",
       "    }\n",
       "\n",
       "    .dataframe tbody tr th {\n",
       "        vertical-align: top;\n",
       "    }\n",
       "\n",
       "    .dataframe thead th {\n",
       "        text-align: right;\n",
       "    }\n",
       "</style>\n",
       "<table border=\"1\" class=\"dataframe\">\n",
       "  <thead>\n",
       "    <tr style=\"text-align: right;\">\n",
       "      <th></th>\n",
       "      <th>counts</th>\n",
       "      <th>%</th>\n",
       "    </tr>\n",
       "  </thead>\n",
       "  <tbody>\n",
       "    <tr>\n",
       "      <th>1.0</th>\n",
       "      <td>410</td>\n",
       "      <td>0.683949</td>\n",
       "    </tr>\n",
       "    <tr>\n",
       "      <th>0.5</th>\n",
       "      <td>7732</td>\n",
       "      <td>12.898275</td>\n",
       "    </tr>\n",
       "    <tr>\n",
       "      <th>0.0</th>\n",
       "      <td>51804</td>\n",
       "      <td>86.417776</td>\n",
       "    </tr>\n",
       "  </tbody>\n",
       "</table>\n",
       "</div>"
      ],
      "text/plain": [
       "     counts          %\n",
       "1.0     410   0.683949\n",
       "0.5    7732  12.898275\n",
       "0.0   51804  86.417776"
      ]
     },
     "execution_count": 10,
     "metadata": {},
     "output_type": "execute_result"
    }
   ],
   "source": [
    "#These codes allocates 0 - 1 based on frequency of drugs\n",
    "#All Nan are assumed to be 0\n",
    "df['drugs_mapped'] = df['drugs'].map(drugs_mapping)\n",
    "df['drugs_mapped'].fillna(0,inplace=True)\n",
    "c = df.drugs_mapped.value_counts(dropna=False)\n",
    "p = df.drugs_mapped.value_counts(dropna=False, normalize=True)\n",
    "cp = pd.concat([c,100*p], axis=1, keys=['counts', '%'])\n",
    "cp.sort_values(['%'])\n",
    "\n"
   ]
  },
  {
   "cell_type": "code",
   "execution_count": 11,
   "metadata": {},
   "outputs": [
    {
     "data": {
      "text/html": [
       "<div>\n",
       "<style scoped>\n",
       "    .dataframe tbody tr th:only-of-type {\n",
       "        vertical-align: middle;\n",
       "    }\n",
       "\n",
       "    .dataframe tbody tr th {\n",
       "        vertical-align: top;\n",
       "    }\n",
       "\n",
       "    .dataframe thead th {\n",
       "        text-align: right;\n",
       "    }\n",
       "</style>\n",
       "<table border=\"1\" class=\"dataframe\">\n",
       "  <thead>\n",
       "    <tr style=\"text-align: right;\">\n",
       "      <th></th>\n",
       "      <th>counts</th>\n",
       "      <th>%</th>\n",
       "    </tr>\n",
       "  </thead>\n",
       "  <tbody>\n",
       "    <tr>\n",
       "      <th>1.0</th>\n",
       "      <td>4481</td>\n",
       "      <td>7.475061</td>\n",
       "    </tr>\n",
       "    <tr>\n",
       "      <th>0.0</th>\n",
       "      <td>55465</td>\n",
       "      <td>92.524939</td>\n",
       "    </tr>\n",
       "  </tbody>\n",
       "</table>\n",
       "</div>"
      ],
      "text/plain": [
       "     counts          %\n",
       "1.0    4481   7.475061\n",
       "0.0   55465  92.524939"
      ]
     },
     "execution_count": 11,
     "metadata": {},
     "output_type": "execute_result"
    }
   ],
   "source": [
    "#These codes allocates 1 where employed in any form and 0 where obvioulsy not employed\n",
    "df['education_mapped'] = df['education'].map(education_mapping)\n",
    "df['education_mapped'].fillna(0,inplace=True)\n",
    "c = df.education_mapped.value_counts(dropna=False)\n",
    "p = df.education_mapped.value_counts(dropna=False, normalize=True)\n",
    "cp = pd.concat([c,100*p], axis=1, keys=['counts', '%'])\n",
    "cp.sort_values(['%'])"
   ]
  },
  {
   "cell_type": "code",
   "execution_count": 12,
   "metadata": {},
   "outputs": [
    {
     "data": {
      "text/html": [
       "<div>\n",
       "<style scoped>\n",
       "    .dataframe tbody tr th:only-of-type {\n",
       "        vertical-align: middle;\n",
       "    }\n",
       "\n",
       "    .dataframe tbody tr th {\n",
       "        vertical-align: top;\n",
       "    }\n",
       "\n",
       "    .dataframe thead th {\n",
       "        text-align: right;\n",
       "    }\n",
       "</style>\n",
       "<table border=\"1\" class=\"dataframe\">\n",
       "  <thead>\n",
       "    <tr style=\"text-align: right;\">\n",
       "      <th></th>\n",
       "      <th>counts</th>\n",
       "      <th>%</th>\n",
       "    </tr>\n",
       "  </thead>\n",
       "  <tbody>\n",
       "    <tr>\n",
       "      <th>0.0</th>\n",
       "      <td>21860</td>\n",
       "      <td>36.466153</td>\n",
       "    </tr>\n",
       "    <tr>\n",
       "      <th>1.0</th>\n",
       "      <td>38086</td>\n",
       "      <td>63.533847</td>\n",
       "    </tr>\n",
       "  </tbody>\n",
       "</table>\n",
       "</div>"
      ],
      "text/plain": [
       "     counts          %\n",
       "0.0   21860  36.466153\n",
       "1.0   38086  63.533847"
      ]
     },
     "execution_count": 12,
     "metadata": {},
     "output_type": "execute_result"
    }
   ],
   "source": [
    "#These codes allocates 1 where employed in any form and 0 where obvioulsy not employed\n",
    "#All Nan and 'rather not say' are assumed to be unemployed \n",
    "df['job_mapped'] = df['job'].map(job_mapping)\n",
    "df['job_mapped'].fillna(0,inplace=True)\n",
    "c = df.job_mapped.value_counts(dropna=False)\n",
    "p = df.job_mapped.value_counts(dropna=False, normalize=True)\n",
    "cp = pd.concat([c,100*p], axis=1, keys=['counts', '%'])\n",
    "cp.sort_values(['%'])"
   ]
  },
  {
   "cell_type": "code",
   "execution_count": 13,
   "metadata": {},
   "outputs": [
    {
     "data": {
      "text/html": [
       "<div>\n",
       "<style scoped>\n",
       "    .dataframe tbody tr th:only-of-type {\n",
       "        vertical-align: middle;\n",
       "    }\n",
       "\n",
       "    .dataframe tbody tr th {\n",
       "        vertical-align: top;\n",
       "    }\n",
       "\n",
       "    .dataframe thead th {\n",
       "        text-align: right;\n",
       "    }\n",
       "</style>\n",
       "<table border=\"1\" class=\"dataframe\">\n",
       "  <thead>\n",
       "    <tr style=\"text-align: right;\">\n",
       "      <th></th>\n",
       "      <th>counts</th>\n",
       "      <th>%</th>\n",
       "    </tr>\n",
       "  </thead>\n",
       "  <tbody>\n",
       "    <tr>\n",
       "      <th>1.0</th>\n",
       "      <td>4919</td>\n",
       "      <td>8.205718</td>\n",
       "    </tr>\n",
       "    <tr>\n",
       "      <th>0.0</th>\n",
       "      <td>55027</td>\n",
       "      <td>91.794282</td>\n",
       "    </tr>\n",
       "  </tbody>\n",
       "</table>\n",
       "</div>"
      ],
      "text/plain": [
       "     counts          %\n",
       "1.0    4919   8.205718\n",
       "0.0   55027  91.794282"
      ]
     },
     "execution_count": 13,
     "metadata": {},
     "output_type": "execute_result"
    }
   ],
   "source": [
    "#These codes allocates 1 where there is one or more offspring and 0 where there is no offspring\n",
    "#All Nan are assumed to be 0\n",
    "df['offspring_mapped'] = df['offspring'].map(offspring_mapping)\n",
    "df['offspring_mapped'].fillna(0,inplace=True)\n",
    "c = df.offspring_mapped.value_counts(dropna=False)\n",
    "p = df.offspring_mapped.value_counts(dropna=False, normalize=True)\n",
    "cp = pd.concat([c,100*p], axis=1, keys=['counts', '%'])\n",
    "cp.sort_values(['%'])"
   ]
  },
  {
   "cell_type": "code",
   "execution_count": 14,
   "metadata": {},
   "outputs": [
    {
     "data": {
      "text/html": [
       "<div>\n",
       "<style scoped>\n",
       "    .dataframe tbody tr th:only-of-type {\n",
       "        vertical-align: middle;\n",
       "    }\n",
       "\n",
       "    .dataframe tbody tr th {\n",
       "        vertical-align: top;\n",
       "    }\n",
       "\n",
       "    .dataframe thead th {\n",
       "        text-align: right;\n",
       "    }\n",
       "</style>\n",
       "<table border=\"1\" class=\"dataframe\">\n",
       "  <thead>\n",
       "    <tr style=\"text-align: right;\">\n",
       "      <th></th>\n",
       "      <th>counts</th>\n",
       "      <th>%</th>\n",
       "    </tr>\n",
       "  </thead>\n",
       "  <tbody>\n",
       "    <tr>\n",
       "      <th>0.0</th>\n",
       "      <td>20283</td>\n",
       "      <td>33.835452</td>\n",
       "    </tr>\n",
       "    <tr>\n",
       "      <th>1.0</th>\n",
       "      <td>39663</td>\n",
       "      <td>66.164548</td>\n",
       "    </tr>\n",
       "  </tbody>\n",
       "</table>\n",
       "</div>"
      ],
      "text/plain": [
       "     counts          %\n",
       "0.0   20283  33.835452\n",
       "1.0   39663  66.164548"
      ]
     },
     "execution_count": 14,
     "metadata": {},
     "output_type": "execute_result"
    }
   ],
   "source": [
    "#These codes allocates 1 where there is a like for either dog or cat and 0 where there is none and doesnt want any\n",
    "#All Nan are assumed to be 0\n",
    "df['pets_mapped'] = df['pets'].map(pets_mapping)\n",
    "df['pets_mapped'].fillna(0,inplace=True)\n",
    "c = df.pets_mapped.value_counts(dropna=False)\n",
    "p = df.pets_mapped.value_counts(dropna=False, normalize=True)\n",
    "cp = pd.concat([c,100*p], axis=1, keys=['counts', '%'])\n",
    "cp.sort_values(['%'])"
   ]
  },
  {
   "cell_type": "code",
   "execution_count": 15,
   "metadata": {},
   "outputs": [
    {
     "data": {
      "text/html": [
       "<div>\n",
       "<style scoped>\n",
       "    .dataframe tbody tr th:only-of-type {\n",
       "        vertical-align: middle;\n",
       "    }\n",
       "\n",
       "    .dataframe tbody tr th {\n",
       "        vertical-align: top;\n",
       "    }\n",
       "\n",
       "    .dataframe thead th {\n",
       "        text-align: right;\n",
       "    }\n",
       "</style>\n",
       "<table border=\"1\" class=\"dataframe\">\n",
       "  <thead>\n",
       "    <tr style=\"text-align: right;\">\n",
       "      <th></th>\n",
       "      <th>counts</th>\n",
       "      <th>%</th>\n",
       "    </tr>\n",
       "  </thead>\n",
       "  <tbody>\n",
       "    <tr>\n",
       "      <th>1.0</th>\n",
       "      <td>3711</td>\n",
       "      <td>6.190572</td>\n",
       "    </tr>\n",
       "    <tr>\n",
       "      <th>0.5</th>\n",
       "      <td>6827</td>\n",
       "      <td>11.388583</td>\n",
       "    </tr>\n",
       "    <tr>\n",
       "      <th>0.0</th>\n",
       "      <td>49408</td>\n",
       "      <td>82.420845</td>\n",
       "    </tr>\n",
       "  </tbody>\n",
       "</table>\n",
       "</div>"
      ],
      "text/plain": [
       "     counts          %\n",
       "1.0    3711   6.190572\n",
       "0.5    6827  11.388583\n",
       "0.0   49408  82.420845"
      ]
     },
     "execution_count": 15,
     "metadata": {},
     "output_type": "execute_result"
    }
   ],
   "source": [
    "#These codes allocates 0-1 for fequency of smoking\n",
    "#All Nan are assumed to be none smokers\n",
    "df['smokes_mapped'] = df['smokes'].map(smokes_mapping)\n",
    "df['smokes_mapped'].fillna(0,inplace=True)\n",
    "c = df.smokes_mapped.value_counts(dropna=False)\n",
    "p = df.smokes_mapped.value_counts(dropna=False, normalize=True)\n",
    "cp = pd.concat([c,100*p], axis=1, keys=['counts', '%'])\n",
    "cp.sort_values(['%'])"
   ]
  },
  {
   "cell_type": "code",
   "execution_count": 16,
   "metadata": {},
   "outputs": [
    {
     "data": {
      "text/html": [
       "<div>\n",
       "<style scoped>\n",
       "    .dataframe tbody tr th:only-of-type {\n",
       "        vertical-align: middle;\n",
       "    }\n",
       "\n",
       "    .dataframe tbody tr th {\n",
       "        vertical-align: top;\n",
       "    }\n",
       "\n",
       "    .dataframe thead th {\n",
       "        text-align: right;\n",
       "    }\n",
       "</style>\n",
       "<table border=\"1\" class=\"dataframe\">\n",
       "  <thead>\n",
       "    <tr style=\"text-align: right;\">\n",
       "      <th></th>\n",
       "      <th>counts</th>\n",
       "      <th>%</th>\n",
       "    </tr>\n",
       "  </thead>\n",
       "  <tbody>\n",
       "    <tr>\n",
       "      <th>False</th>\n",
       "      <td>2384</td>\n",
       "      <td>3.976913</td>\n",
       "    </tr>\n",
       "    <tr>\n",
       "      <th>True</th>\n",
       "      <td>57562</td>\n",
       "      <td>96.023087</td>\n",
       "    </tr>\n",
       "  </tbody>\n",
       "</table>\n",
       "</div>"
      ],
      "text/plain": [
       "       counts          %\n",
       "False    2384   3.976913\n",
       "True    57562  96.023087"
      ]
     },
     "execution_count": 16,
     "metadata": {},
     "output_type": "execute_result"
    }
   ],
   "source": [
    "df['status'].fillna(0,inplace=True)\n",
    "df['status_mapped'] = df['status'].map(status_mapping)\n",
    "c = df.status_mapped.value_counts(dropna=False)\n",
    "p = df.status_mapped.value_counts(dropna=False, normalize=True)\n",
    "cp = pd.concat([c,100*p], axis=1, keys=['counts', '%'])\n",
    "cp.sort_values(['%']) "
   ]
  },
  {
   "cell_type": "code",
   "execution_count": 17,
   "metadata": {},
   "outputs": [],
   "source": [
    "#Columns to be analysed\n",
    "regression_columns = ['age','diet_mapped','drinks_mapped','drugs_mapped','education_mapped','job_mapped','offspring_mapped',\\\n",
    "                      'pets_mapped','smokes_mapped']\n",
    "\n",
    "classification_columns = ['diet_mapped','drinks_mapped','drugs_mapped','education_mapped','job_mapped','offspring_mapped',\\\n",
    "                      'pets_mapped','smokes_mapped']"
   ]
  },
  {
   "cell_type": "code",
   "execution_count": 18,
   "metadata": {},
   "outputs": [],
   "source": [
    "#Divide the data into training and validation data\n",
    "\n",
    "lireg_train_data, lireg_test_data, lireg_train_labels, lireg_test_labels = \\\n",
    "train_test_split(df[regression_columns], df['age'], train_size = 0.8, test_size = 0.2, random_state = 100)\n",
    "#lireg_train_data, lireg_train_labels = smt.fit_sample(lireg_train_data, lireg_train_labels)\n",
    "\n",
    "loreg_train_data, loreg_test_data, loreg_train_labels, loreg_test_labels = \\\n",
    "train_test_split(df[regression_columns], df['status_mapped'], train_size = 0.8, test_size = 0.2, random_state = 100)\n",
    "#loreg_train_data, loreg_train_labels = smt.fit_sample(loreg_train_data, loreg_train_labels)\n",
    "\n",
    "class_train_data, class_test_data, class_train_labels, class_test_labels  = \\\n",
    "train_test_split(df[classification_columns], df['status_mapped'] , train_size = 0.8, test_size = 0.2, random_state = 100)"
   ]
  },
  {
   "cell_type": "code",
   "execution_count": 19,
   "metadata": {},
   "outputs": [],
   "source": [
    "#Use SMOTE() to increase the minority classes in the training data.\n",
    "smt = SMOTE()\n",
    "class_train_data, class_train_labels = smt.fit_sample(class_train_data, class_train_labels)"
   ]
  },
  {
   "cell_type": "code",
   "execution_count": 21,
   "metadata": {},
   "outputs": [
    {
     "name": "stdout",
     "output_type": "stream",
     "text": [
      "Score for Support Vector Machine (Test Data):  0.38557130942452045\n"
     ]
    }
   ],
   "source": [
    "#Use Support Vector Machine to classify the data\n",
    "svmclassifier = SVC(random_state = 1)\n",
    "svmclassifier.fit(class_train_data,class_train_labels)\n",
    "print('Score for Support Vector Machine (Test Data): ',svmclassifier.score(class_test_data, class_test_labels))"
   ]
  },
  {
   "cell_type": "code",
   "execution_count": 22,
   "metadata": {},
   "outputs": [],
   "source": [
    "#SVMPredictions\n",
    "svmpredicted_train_labels = svmclassifier.predict(class_train_data)\n",
    "svmpredicted_test_labels = svmclassifier.predict(class_test_data)"
   ]
  },
  {
   "cell_type": "code",
   "execution_count": 46,
   "metadata": {},
   "outputs": [
    {
     "name": "stdout",
     "output_type": "stream",
     "text": [
      "TRAINING DATA, SVM\n",
      "Accuracy =  0.570490557846755\n",
      "Recall = 0.570490557846755\n",
      "Precision =  0.5826118099554306\n",
      "F1 Score =  0.5541356498833839\n",
      "TEST DATA, SVM\n",
      "Accuracy =  0.38557130942452045\n",
      "Recall = 0.38557130942452045\n",
      "Precision =  0.932903736154958\n",
      "F1 Score =  0.5173187567340622\n"
     ]
    }
   ],
   "source": [
    "#compute accuracy, recall, precision and f1_score\n",
    "print('TRAINING DATA, SVM')\n",
    "print('Accuracy = ',accuracy_score(class_train_labels,svmpredicted_train_labels))\n",
    "print('Recall =', recall_score(class_train_labels,svmpredicted_train_labels,labels= status_labels,average='weighted'))\n",
    "print('Precision = ',precision_score(class_train_labels,svmpredicted_train_labels,labels= status_labels,average='weighted'))\n",
    "print ('F1 Score = ',f1_score(class_train_labels,svmpredicted_train_labels,labels= status_labels,average='weighted'))\n",
    "\n",
    "print('TEST DATA, SVM')\n",
    "print('Accuracy = ',accuracy_score(class_test_labels,svmpredicted_test_labels))\n",
    "print('Recall =', recall_score(class_test_labels,svmpredicted_test_labels,labels= status_labels,average='weighted'))\n",
    "print('Precision = ',precision_score(class_test_labels,svmpredicted_test_labels,labels= status_labels,average='weighted'))\n",
    "print ('F1 Score = ',f1_score(class_test_labels,svmpredicted_test_labels,labels= status_labels,average='weighted'))\n"
   ]
  },
  {
   "cell_type": "code",
   "execution_count": 35,
   "metadata": {},
   "outputs": [
    {
     "name": "stdout",
     "output_type": "stream",
     "text": [
      "Score for K Nearest Neighbour:  0.9326939115929942\n",
      "k =  7\n"
     ]
    }
   ],
   "source": [
    "#Use K Nearest Neighbours to classify the data\n",
    "kclassifier_score = 0\n",
    "for i in range(6,21):\n",
    "    kclassifier = KNeighborsClassifier(n_neighbors = i+1)\n",
    "    kclassifier.fit(class_train_data,class_train_labels)\n",
    "    if kclassifier.score(class_test_data, class_test_labels) >  kclassifier_score:\n",
    "        kclassifier_score = kclassifier.score(class_test_data, class_test_labels)\n",
    "        k = i+1\n",
    "\n",
    "print ('Score for K Nearest Neighbour: ', kclassifier_score)\n",
    "print ('k = ',k)\n",
    "        "
   ]
  },
  {
   "cell_type": "code",
   "execution_count": 36,
   "metadata": {},
   "outputs": [],
   "source": [
    "#KNeighbors Prediction \n",
    "kpredicted_train_labels = kclassifier.predict(class_train_data)\n",
    "kpredicted_test_labels = kclassifier.predict(class_test_data)"
   ]
  },
  {
   "cell_type": "code",
   "execution_count": 55,
   "metadata": {},
   "outputs": [
    {
     "name": "stdout",
     "output_type": "stream",
     "text": [
      "TRAINING DATA, K Nearest Neighbour\n",
      "Accuracy =  0.552018667245496\n",
      "Recall = 0.552018667245496\n",
      "Precision =  0.6405134152199572\n",
      "F1 Score =  0.4683036445545489\n",
      "TEST DATA, K Nearest Neighbour\n",
      "Accuracy =  0.9101751459549625\n",
      "Recall = 0.9101751459549625\n",
      "Precision =  0.9227752672902342\n",
      "F1 Score =  0.9163576545865791\n"
     ]
    }
   ],
   "source": [
    "#compute accuracy, recall, precision and f1_score\n",
    "print('TRAINING DATA, K Nearest Neighbour')\n",
    "print('Accuracy = ',accuracy_score(class_train_labels,kpredicted_train_labels))\n",
    "print('Recall =', recall_score(class_train_labels,kpredicted_train_labels,average='weighted'))\n",
    "print('Precision = ',precision_score(class_train_labels,kpredicted_train_labels,average='weighted'))\n",
    "print ('F1 Score = ',f1_score(class_train_labels,kpredicted_train_labels,average='weighted'))\n",
    "\n",
    "print('TEST DATA, K Nearest Neighbour')\n",
    "print('Accuracy = ',accuracy_score(class_test_labels,kpredicted_test_labels))\n",
    "print('Recall =', recall_score(class_test_labels,kpredicted_test_labels,average='weighted'))\n",
    "print('Precision = ',precision_score(class_test_labels,kpredicted_test_labels,average='weighted'))\n",
    "print ('F1 Score = ',f1_score(class_test_labels,kpredicted_test_labels,average='weighted'))\n"
   ]
  },
  {
   "cell_type": "code",
   "execution_count": 82,
   "metadata": {},
   "outputs": [
    {
     "name": "stdout",
     "output_type": "stream",
     "text": [
      "Score for Linear Regression:  1.0\n"
     ]
    }
   ],
   "source": [
    "limodel = LinearRegression()\n",
    "limodel.fit(lireg_train_data,lireg_train_labels)\n",
    "print('Score for Linear Regression: ',limodel.score(lireg_test_data,lireg_test_labels))"
   ]
  },
  {
   "cell_type": "code",
   "execution_count": 81,
   "metadata": {},
   "outputs": [
    {
     "name": "stdout",
     "output_type": "stream",
     "text": [
      "Score for Logistic Regression:  0.958465387823186\n"
     ]
    }
   ],
   "source": [
    "lomodel = LogisticRegression()\n",
    "lomodel.fit(loreg_train_data,loreg_train_labels)\n",
    "print('Score for Logistic Regression: ',lomodel.score(loreg_test_data,loreg_test_labels))"
   ]
  },
  {
   "cell_type": "code",
   "execution_count": 83,
   "metadata": {},
   "outputs": [
    {
     "data": {
      "text/html": [
       "<div>\n",
       "<style scoped>\n",
       "    .dataframe tbody tr th:only-of-type {\n",
       "        vertical-align: middle;\n",
       "    }\n",
       "\n",
       "    .dataframe tbody tr th {\n",
       "        vertical-align: top;\n",
       "    }\n",
       "\n",
       "    .dataframe thead th {\n",
       "        text-align: right;\n",
       "    }\n",
       "</style>\n",
       "<table border=\"1\" class=\"dataframe\">\n",
       "  <thead>\n",
       "    <tr style=\"text-align: right;\">\n",
       "      <th></th>\n",
       "      <th>age</th>\n",
       "      <th>diet_mapped</th>\n",
       "      <th>drinks_mapped</th>\n",
       "      <th>drugs_mapped</th>\n",
       "      <th>education_mapped</th>\n",
       "      <th>job_mapped</th>\n",
       "      <th>offspring_mapped</th>\n",
       "      <th>pets_mapped</th>\n",
       "      <th>smokes_mapped</th>\n",
       "    </tr>\n",
       "  </thead>\n",
       "  <tbody>\n",
       "    <tr>\n",
       "      <th>age</th>\n",
       "      <td>1.000000</td>\n",
       "      <td>0.015379</td>\n",
       "      <td>-0.088795</td>\n",
       "      <td>-0.116448</td>\n",
       "      <td>0.043806</td>\n",
       "      <td>0.138749</td>\n",
       "      <td>0.409045</td>\n",
       "      <td>0.033979</td>\n",
       "      <td>-0.132111</td>\n",
       "    </tr>\n",
       "    <tr>\n",
       "      <th>diet_mapped</th>\n",
       "      <td>0.015379</td>\n",
       "      <td>1.000000</td>\n",
       "      <td>-0.040363</td>\n",
       "      <td>0.047099</td>\n",
       "      <td>0.006582</td>\n",
       "      <td>0.013276</td>\n",
       "      <td>0.006846</td>\n",
       "      <td>0.050154</td>\n",
       "      <td>-0.006704</td>\n",
       "    </tr>\n",
       "    <tr>\n",
       "      <th>drinks_mapped</th>\n",
       "      <td>-0.088795</td>\n",
       "      <td>-0.040363</td>\n",
       "      <td>1.000000</td>\n",
       "      <td>0.182684</td>\n",
       "      <td>0.006733</td>\n",
       "      <td>0.072199</td>\n",
       "      <td>-0.040935</td>\n",
       "      <td>0.072817</td>\n",
       "      <td>0.143974</td>\n",
       "    </tr>\n",
       "    <tr>\n",
       "      <th>drugs_mapped</th>\n",
       "      <td>-0.116448</td>\n",
       "      <td>0.047099</td>\n",
       "      <td>0.182684</td>\n",
       "      <td>1.000000</td>\n",
       "      <td>-0.027223</td>\n",
       "      <td>0.020167</td>\n",
       "      <td>-0.043143</td>\n",
       "      <td>0.058665</td>\n",
       "      <td>0.283751</td>\n",
       "    </tr>\n",
       "    <tr>\n",
       "      <th>education_mapped</th>\n",
       "      <td>0.043806</td>\n",
       "      <td>0.006582</td>\n",
       "      <td>0.006733</td>\n",
       "      <td>-0.027223</td>\n",
       "      <td>1.000000</td>\n",
       "      <td>-0.022397</td>\n",
       "      <td>0.014168</td>\n",
       "      <td>0.003106</td>\n",
       "      <td>-0.017242</td>\n",
       "    </tr>\n",
       "    <tr>\n",
       "      <th>job_mapped</th>\n",
       "      <td>0.138749</td>\n",
       "      <td>0.013276</td>\n",
       "      <td>0.072199</td>\n",
       "      <td>0.020167</td>\n",
       "      <td>-0.022397</td>\n",
       "      <td>1.000000</td>\n",
       "      <td>0.048209</td>\n",
       "      <td>0.102515</td>\n",
       "      <td>0.002012</td>\n",
       "    </tr>\n",
       "    <tr>\n",
       "      <th>offspring_mapped</th>\n",
       "      <td>0.409045</td>\n",
       "      <td>0.006846</td>\n",
       "      <td>-0.040935</td>\n",
       "      <td>-0.043143</td>\n",
       "      <td>0.014168</td>\n",
       "      <td>0.048209</td>\n",
       "      <td>1.000000</td>\n",
       "      <td>0.008397</td>\n",
       "      <td>-0.010481</td>\n",
       "    </tr>\n",
       "    <tr>\n",
       "      <th>pets_mapped</th>\n",
       "      <td>0.033979</td>\n",
       "      <td>0.050154</td>\n",
       "      <td>0.072817</td>\n",
       "      <td>0.058665</td>\n",
       "      <td>0.003106</td>\n",
       "      <td>0.102515</td>\n",
       "      <td>0.008397</td>\n",
       "      <td>1.000000</td>\n",
       "      <td>0.046169</td>\n",
       "    </tr>\n",
       "    <tr>\n",
       "      <th>smokes_mapped</th>\n",
       "      <td>-0.132111</td>\n",
       "      <td>-0.006704</td>\n",
       "      <td>0.143974</td>\n",
       "      <td>0.283751</td>\n",
       "      <td>-0.017242</td>\n",
       "      <td>0.002012</td>\n",
       "      <td>-0.010481</td>\n",
       "      <td>0.046169</td>\n",
       "      <td>1.000000</td>\n",
       "    </tr>\n",
       "  </tbody>\n",
       "</table>\n",
       "</div>"
      ],
      "text/plain": [
       "                       age  diet_mapped  drinks_mapped  drugs_mapped  \\\n",
       "age               1.000000     0.015379      -0.088795     -0.116448   \n",
       "diet_mapped       0.015379     1.000000      -0.040363      0.047099   \n",
       "drinks_mapped    -0.088795    -0.040363       1.000000      0.182684   \n",
       "drugs_mapped     -0.116448     0.047099       0.182684      1.000000   \n",
       "education_mapped  0.043806     0.006582       0.006733     -0.027223   \n",
       "job_mapped        0.138749     0.013276       0.072199      0.020167   \n",
       "offspring_mapped  0.409045     0.006846      -0.040935     -0.043143   \n",
       "pets_mapped       0.033979     0.050154       0.072817      0.058665   \n",
       "smokes_mapped    -0.132111    -0.006704       0.143974      0.283751   \n",
       "\n",
       "                  education_mapped  job_mapped  offspring_mapped  pets_mapped  \\\n",
       "age                       0.043806    0.138749          0.409045     0.033979   \n",
       "diet_mapped               0.006582    0.013276          0.006846     0.050154   \n",
       "drinks_mapped             0.006733    0.072199         -0.040935     0.072817   \n",
       "drugs_mapped             -0.027223    0.020167         -0.043143     0.058665   \n",
       "education_mapped          1.000000   -0.022397          0.014168     0.003106   \n",
       "job_mapped               -0.022397    1.000000          0.048209     0.102515   \n",
       "offspring_mapped          0.014168    0.048209          1.000000     0.008397   \n",
       "pets_mapped               0.003106    0.102515          0.008397     1.000000   \n",
       "smokes_mapped            -0.017242    0.002012         -0.010481     0.046169   \n",
       "\n",
       "                  smokes_mapped  \n",
       "age                   -0.132111  \n",
       "diet_mapped           -0.006704  \n",
       "drinks_mapped          0.143974  \n",
       "drugs_mapped           0.283751  \n",
       "education_mapped      -0.017242  \n",
       "job_mapped             0.002012  \n",
       "offspring_mapped      -0.010481  \n",
       "pets_mapped            0.046169  \n",
       "smokes_mapped          1.000000  "
      ]
     },
     "execution_count": 83,
     "metadata": {},
     "output_type": "execute_result"
    }
   ],
   "source": [
    "df[regression_columns].corr()"
   ]
  }
 ],
 "metadata": {
  "kernelspec": {
   "display_name": "Python 3",
   "language": "python",
   "name": "python3"
  },
  "language_info": {
   "codemirror_mode": {
    "name": "ipython",
    "version": 3
   },
   "file_extension": ".py",
   "mimetype": "text/x-python",
   "name": "python",
   "nbconvert_exporter": "python",
   "pygments_lexer": "ipython3",
   "version": "3.7.0"
  }
 },
 "nbformat": 4,
 "nbformat_minor": 2
}
